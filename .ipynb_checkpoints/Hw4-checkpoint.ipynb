{
 "cells": [
  {
   "cell_type": "code",
   "execution_count": 55,
   "metadata": {
    "collapsed": true
   },
   "outputs": [],
   "source": [
    "import numpy\n",
    "from matplotlib import pyplot\n",
    "import matplotlib.cm as cm\n",
    "%matplotlib inline"
   ]
  },
  {
   "cell_type": "code",
   "execution_count": 56,
   "metadata": {
    "collapsed": false
   },
   "outputs": [],
   "source": [
    "def ftcs(U, nt, dt, dh):\n",
    "   \n",
    "    for n in range(nt):\n",
    "        Un = U.copy()\n",
    "        Vn = V.copy()\n",
    "        \n",
    "        U[1:-1,1:-1] = Un[1:-1,1:-1] + Du *(dt/dh**2 * (Un[2:,1:-1] - 2*Un[1:-1,1:-1] + Un[:-2,1:-1]) + dt/dh**2 * (Un[1:-1,2:] - 2*Un[1:-1,1:-1] + Un[1:-1,:-2])) - ((Un[1:-1,1:-1]*Vn[1:-1,1:-1]**2) * dt) + (F * (1 - Un[1:-1,1:-1]) * dt)\n",
    "        V[1:-1,1:-1] = Vn[1:-1,1:-1] + Dv *(dt/dh**2 * (Vn[2:,1:-1] - 2*Vn[1:-1,1:-1] + Vn[:-2,1:-1]) + dt/dh**2 * (Vn[1:-1,2:] - 2*Vn[1:-1,1:-1] + Vn[1:-1,:-2])) + ((Un[1:-1,1:-1]*Vn[1:-1,1:-1]**2) * dt) - ((F + k) * Vn[1:-1,1:-1] * dt) \n",
    "        \n",
    "        # Neumann conditions everywhere\n",
    "        U[0,:] = U[1,:]\n",
    "        U[:,0] = U[:,1]\n",
    "        U[-1,:] = U[-2,:]\n",
    "        U[:,-1] = U[:,-2]\n",
    "        V[0,:] = V[1,:]\n",
    "        V[:,0] = V[:,1]\n",
    "        V[-1,:] = V[-2,:]\n",
    "        V[:,-1] = V[:,-2]\n",
    "        \n",
    "    return U"
   ]
  },
  {
   "cell_type": "code",
   "execution_count": 57,
   "metadata": {
    "collapsed": false
   },
   "outputs": [],
   "source": [
    "n = 192\n",
    "Du, Dv, F, k = 0.00016, 0.00008, 0.035, 0.065 # Bacteria 1 \n",
    "dh = 5/(n-1)\n",
    "T = 8000\n",
    "dt = .9 * dh**2 / (4*max(Du,Dv))\n",
    "nt = int(T/dt)"
   ]
  },
  {
   "cell_type": "code",
   "execution_count": 58,
   "metadata": {
    "collapsed": false
   },
   "outputs": [],
   "source": [
    "uvinitial = numpy.load('/Users/jasonliz/MAE6286/uvinitial.npz')\n",
    "U = uvinitial['U']\n",
    "V = uvinitial['V']"
   ]
  },
  {
   "cell_type": "code",
   "execution_count": 59,
   "metadata": {
    "collapsed": false
   },
   "outputs": [],
   "source": [
    "U = ftcs(U, nt, dt, dh)"
   ]
  },
  {
   "cell_type": "code",
   "execution_count": 60,
   "metadata": {
    "collapsed": false
   },
   "outputs": [
    {
     "data": {
      "text/plain": [
       "array([ 0.92469521,  0.85013834,  0.66815621,  0.90196481,  0.9039502 ])"
      ]
     },
     "execution_count": 60,
     "metadata": {},
     "output_type": "execute_result"
    }
   ],
   "source": [
    "U[100,::40]"
   ]
  }
 ],
 "metadata": {
  "kernelspec": {
   "display_name": "Python 3",
   "language": "python",
   "name": "python3"
  },
  "language_info": {
   "codemirror_mode": {
    "name": "ipython",
    "version": 3
   },
   "file_extension": ".py",
   "mimetype": "text/x-python",
   "name": "python",
   "nbconvert_exporter": "python",
   "pygments_lexer": "ipython3",
   "version": "3.4.3"
  }
 },
 "nbformat": 4,
 "nbformat_minor": 0
}
