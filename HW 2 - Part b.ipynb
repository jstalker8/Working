{
 "cells": [
  {
   "cell_type": "code",
   "execution_count": 1,
   "metadata": {
    "collapsed": false
   },
   "outputs": [
    {
     "name": "stdout",
     "output_type": "stream",
     "text": [
      "30.2222222222\n",
      "33.872218191\n",
      "30.9864026806\n"
     ]
    }
   ],
   "source": [
    "%matplotlib inline\n",
    "import numpy \n",
    "from matplotlib import pyplot\n",
    "from matplotlib import rcParams\n",
    "rcParams['font.family'] = 'serif'\n",
    "rcParams['font.size'] = 16\n",
    "\n",
    "#Basic initial condition parameters\n",
    "#defining grid size, time steps\n",
    "nx = 51\n",
    "nt = 101\n",
    "dt = .001\n",
    "dx = 11/(nx-1)\n",
    "v_max = 136\n",
    "L = 11\n",
    "rho_max = 250\n",
    "\n",
    "x = numpy.linspace(0,L,nx)\n",
    "rho0 = numpy.ones(nx)*20\n",
    "rho0[10:20] = 50\n",
    "\n",
    "def Flux(v_max, rho_max, rho0):\n",
    "    \"\"\"Computes Traffic flux F=V*rho\n",
    "\n",
    "    Parameters\n",
    "    ----------\n",
    "    v_max  : Maximum allowed velocity\n",
    "    rho0   : Array with density of cars at every point x\n",
    "    rho_max: Maximum allowed car density\n",
    "        \n",
    "    Returns\n",
    "    -------\n",
    "    F : Array with flux at every point x\n",
    "    \"\"\"\n",
    "    return v_max*rho0*(1-rho0/rho_max)\n",
    "\n",
    "def ftbs(rho0, nt, dt, dx, rho_max, v_max):\n",
    "    \"\"\" Computes the solution with forward in time, backward in space\n",
    "    \n",
    "    Parameters\n",
    "    ----------\n",
    "    rho0   : Density at current time-step\n",
    "    nt     : Number of time steps\n",
    "    dt     : Time-step size\n",
    "    dx     : Mesh spacing\n",
    "    rho_max: Maximum allowed car density\n",
    "    v_max  : Speed limit\n",
    "    \n",
    "    Returns\n",
    "    -------\n",
    "    rho_n : Density after nt time steps at every point x\n",
    "    \"\"\"\n",
    "    \n",
    "    #initialize our results array with dimensions nt by nx\n",
    "    rho_n = numpy.zeros((nt,len(rho0)))      \n",
    "    #copy the initial u array into each row of our new array\n",
    "    rho_n[0,:] = rho0.copy()              \n",
    "    \n",
    "    for t in range(1,nt):\n",
    "        F = Flux(v_max, rho_max, rho0)\n",
    "        rho_n[t,1:] = rho0[1:] - dt/dx*(F[1:]-F[:-1])\n",
    "        rho_n[t,0] = rho0[0]\n",
    "        rho0 = rho_n[t].copy()\n",
    "\n",
    "    return rho_n\n",
    "\n",
    "rho_n = ftbs(rho0, nt, dt, dx, rho_max, v_max)\n",
    "\n",
    "rho_max_t0 = numpy.nanmax(rho_n[0])     \n",
    "rho_avg_t3 = numpy.mean(rho_n[50])             \n",
    "rho_max_t3 = numpy.nanmax(rho_n[50])\n",
    "\n",
    "v_min_t0 = (v_max*(1-(rho_max_t0/rho_max)))/3600*1000\n",
    "v_avg_t3 = (v_max*(1-(rho_avg_t3/rho_max)))/3600*1000\n",
    "v_min_t3 = (v_max*(1-(rho_max_t3/rho_max)))/3600*1000\n",
    "\n",
    "print(v_min_t0)\n",
    "print(v_avg_t3)\n",
    "print(v_min_t3)"
   ]
  },
  {
   "cell_type": "code",
   "execution_count": null,
   "metadata": {
    "collapsed": true
   },
   "outputs": [],
   "source": []
  }
 ],
 "metadata": {
  "kernelspec": {
   "display_name": "Python 3",
   "language": "python",
   "name": "python3"
  },
  "language_info": {
   "codemirror_mode": {
    "name": "ipython",
    "version": 3
   },
   "file_extension": ".py",
   "mimetype": "text/x-python",
   "name": "python",
   "nbconvert_exporter": "python",
   "pygments_lexer": "ipython3",
   "version": "3.4.3"
  }
 },
 "nbformat": 4,
 "nbformat_minor": 0
}
