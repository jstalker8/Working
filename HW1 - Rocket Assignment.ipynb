{
 "cells": [
  {
   "cell_type": "code",
   "execution_count": 100,
   "metadata": {
    "collapsed": true
   },
   "outputs": [],
   "source": [
    "import numpy, math\n",
    "\n",
    "#Intial conditions\n",
    "\n",
    "# model parameters:\n",
    "ms = 50      # Mass of the Rocket Shell\n",
    "g = -9.81    # gravity in m/s^{-2}\n",
    "p = 1.091    # Average Air Density kg m^{-3}\n",
    "ve = 325     # Exhaust Speed  m s\n",
    "cd = 0.15    # drag coefficient\n",
    "A = 0.785    # Area when r = 0.5m m {2}\n",
    "mp0 = 100    # initial mass of rocket propellant\n",
    "dt = 0.01    # time increment\n",
    "\n",
    "### initial conditions ###\n",
    "v = 0.0      # Initial velocity m/s\n",
    "h = 0.0      # initial altitude m\n",
    "t = 0.0      # Initial Time s\n",
    "mpdt = 20.0  # Initial Fuel Burn Rate\n",
    "\n",
    "### Values to Record Maximum Values  ###\n",
    "Maxv = v     # Create Variable to Record Max Velocity\n",
    "Maxh = h     # Create Variable to Record Max Altitude"
   ]
  },
  {
   "cell_type": "code",
   "execution_count": 101,
   "metadata": {
    "collapsed": false
   },
   "outputs": [
    {
     "name": "stdout",
     "output_type": "stream",
     "text": [
      "Mass of Remaining Propellant at 3.2 Seconds = 36.0 kg\n",
      "Maximum Velocity =: 233.4246638482111 m/s at t= 5.009999999999938 s at h= 543.5016074200065 m\n",
      "Maximum Altitude =:  1359.2592497308453 m at t= 15.809999999999707 s\n",
      "Impact Time=:  37.470000000001114 s at v= -86.05386393151927  m/s\n"
     ]
    }
   ],
   "source": [
    "In_Air = True\n",
    "\n",
    "while In_Air == True:\n",
    "    \n",
    "    dvdt = (mpdt*ve + (ms+mp)*g - (.5)*p*v*abs(v)*A*cd)/(ms+mp)     # Change in Velocity with respect to Time\n",
    "    dhdt = v                                                        # Change in Altitude with respect to Time\n",
    "    \n",
    "    v = v + dvdt*dt                 # Velocity at next Time Increment\n",
    "    h = h + dhdt*dt                 # Altitude at next Time Increment\n",
    "    \n",
    "    if t <= 5:                      # Fuel Burn Rate Conditions\n",
    "        mp = mp0 - mpdt*t           # mp value at times <= 5 Seconds\n",
    "    else:\n",
    "        mpdt = 0.0                  # Value at times > 5 Seconds\n",
    "    \n",
    "    mpt =  mp0 - 20*3.2             # Mass at of Remaining Propellant at 3.2 seconds. \n",
    "    \n",
    "    if v > Maxv:                    # Max Velocity Conditions        \n",
    "        Maxv = v                    # Override old max Velocity Value with new Max Value\n",
    "        tmaxv = t                   # Record Time at max Velocity Value\n",
    "        hmaxv = h                   # Record Altitude at max Velocity Value\n",
    "        \n",
    "    if h > Maxh:                    # Max Altitude Conditions \n",
    "        Maxh = h                    # Override old max Altitude Value with nex Max Value\n",
    "        tmaxh = t                   # Record Time at Max Altitude\n",
    "    \n",
    "    if h <= 0 and t > 1:            # Impact Conditions \n",
    "        In_Air = False              # Rocket is no Longer in the air when above conditions are met\n",
    "        timpact = t                 # Record Time of Impact\n",
    "        vimpact = v                 # Record Velocity at Time of Impact\n",
    "       \n",
    "    t = t+dt                        # Time at next Time Increment\n",
    "\n",
    "print(\"Mass of Remaining Propellant at 3.2 Seconds =\", mpt, \"kg\")                      # Print Mass of Remaining Propellant at 3.2 Seconds\n",
    "print(\"Maximum Velocity =:\", Maxv, \"m/s\", \"at t=\", tmaxv, \"s\", \"at h=\", hmaxv, \"m\")    # Print Max Velocity with Corresponding t and h values \n",
    "print(\"Maximum Altitude =: \", Maxh, \"m\", \"at t=\", tmaxh, \"s\")                          # Print Max Altitude with Coressponding t value\n",
    "print(\"Impact Time=: \", timpact,\"s\", \"at v=\", vimpact, \" m/s\")                         # Print Time and Velocity at Impact"
   ]
  },
  {
   "cell_type": "code",
   "execution_count": null,
   "metadata": {
    "collapsed": true
   },
   "outputs": [],
   "source": []
  }
 ],
 "metadata": {
  "kernelspec": {
   "display_name": "Python 3",
   "language": "python",
   "name": "python3"
  },
  "language_info": {
   "codemirror_mode": {
    "name": "ipython",
    "version": 3
   },
   "file_extension": ".py",
   "mimetype": "text/x-python",
   "name": "python",
   "nbconvert_exporter": "python",
   "pygments_lexer": "ipython3",
   "version": "3.4.3"
  }
 },
 "nbformat": 4,
 "nbformat_minor": 0
}
